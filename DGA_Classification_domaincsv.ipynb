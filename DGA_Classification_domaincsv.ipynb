{
  "nbformat": 4,
  "nbformat_minor": 0,
  "metadata": {
    "colab": {
      "provenance": [],
      "include_colab_link": true
    },
    "kernelspec": {
      "name": "python3",
      "display_name": "Python 3"
    },
    "widgets": {
      "application/vnd.jupyter.widget-state+json": {
        "e4e7c0e604aa45138f982accc22e1d47": {
          "model_module": "@jupyter-widgets/controls",
          "model_name": "VBoxModel",
          "model_module_version": "1.5.0",
          "state": {
            "_dom_classes": [
              "widget-interact"
            ],
            "_model_module": "@jupyter-widgets/controls",
            "_model_module_version": "1.5.0",
            "_model_name": "VBoxModel",
            "_view_count": null,
            "_view_module": "@jupyter-widgets/controls",
            "_view_module_version": "1.5.0",
            "_view_name": "VBoxView",
            "box_style": "",
            "children": [
              "IPY_MODEL_2997ae831afe4b279f1782a48954f6bb",
              "IPY_MODEL_0fdfdc7c7fcc48ebad7b8ba543aacc9e"
            ],
            "layout": "IPY_MODEL_bc32030c92dd4a478a8d23339cd700c1"
          }
        },
        "2997ae831afe4b279f1782a48954f6bb": {
          "model_module": "@jupyter-widgets/controls",
          "model_name": "ToggleButtonsModel",
          "model_module_version": "1.5.0",
          "state": {
            "_dom_classes": [],
            "_model_module": "@jupyter-widgets/controls",
            "_model_module_version": "1.5.0",
            "_model_name": "ToggleButtonsModel",
            "_options_labels": [
              "Pipeline Plot",
              "Hyperparameters",
              "AUC",
              "Confusion Matrix",
              "Threshold",
              "Precision Recall",
              "Prediction Error",
              "Class Report",
              "Feature Selection",
              "Learning Curve",
              "Manifold Learning",
              "Calibration Curve",
              "Validation Curve",
              "Dimensions",
              "Feature Importance",
              "Feature Importance (All)",
              "Decision Boundary",
              "Lift Chart",
              "Gain Chart",
              "Decision Tree",
              "KS Statistic Plot"
            ],
            "_view_count": null,
            "_view_module": "@jupyter-widgets/controls",
            "_view_module_version": "1.5.0",
            "_view_name": "ToggleButtonsView",
            "button_style": "",
            "description": "Plot Type:",
            "description_tooltip": null,
            "disabled": false,
            "icons": [
              ""
            ],
            "index": 3,
            "layout": "IPY_MODEL_cab54ee35d2d4bba8013a9d1d628083e",
            "style": "IPY_MODEL_e9c73b948ecc490bb74249f1815d6678",
            "tooltips": []
          }
        },
        "0fdfdc7c7fcc48ebad7b8ba543aacc9e": {
          "model_module": "@jupyter-widgets/output",
          "model_name": "OutputModel",
          "model_module_version": "1.0.0",
          "state": {
            "_dom_classes": [],
            "_model_module": "@jupyter-widgets/output",
            "_model_module_version": "1.0.0",
            "_model_name": "OutputModel",
            "_view_count": null,
            "_view_module": "@jupyter-widgets/output",
            "_view_module_version": "1.0.0",
            "_view_name": "OutputView",
            "layout": "IPY_MODEL_2f947bb1b5ab452f8ca4087e164ab6cd",
            "msg_id": "",
            "outputs": [
              {
                "output_type": "display_data",
                "data": {
                  "text/plain": "<Figure size 800x550 with 1 Axes>",
                  "image/png": "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\n"
                },
                "metadata": {}
              }
            ]
          }
        },
        "bc32030c92dd4a478a8d23339cd700c1": {
          "model_module": "@jupyter-widgets/base",
          "model_name": "LayoutModel",
          "model_module_version": "1.2.0",
          "state": {
            "_model_module": "@jupyter-widgets/base",
            "_model_module_version": "1.2.0",
            "_model_name": "LayoutModel",
            "_view_count": null,
            "_view_module": "@jupyter-widgets/base",
            "_view_module_version": "1.2.0",
            "_view_name": "LayoutView",
            "align_content": null,
            "align_items": null,
            "align_self": null,
            "border": null,
            "bottom": null,
            "display": null,
            "flex": null,
            "flex_flow": null,
            "grid_area": null,
            "grid_auto_columns": null,
            "grid_auto_flow": null,
            "grid_auto_rows": null,
            "grid_column": null,
            "grid_gap": null,
            "grid_row": null,
            "grid_template_areas": null,
            "grid_template_columns": null,
            "grid_template_rows": null,
            "height": null,
            "justify_content": null,
            "justify_items": null,
            "left": null,
            "margin": null,
            "max_height": null,
            "max_width": null,
            "min_height": null,
            "min_width": null,
            "object_fit": null,
            "object_position": null,
            "order": null,
            "overflow": null,
            "overflow_x": null,
            "overflow_y": null,
            "padding": null,
            "right": null,
            "top": null,
            "visibility": null,
            "width": null
          }
        },
        "cab54ee35d2d4bba8013a9d1d628083e": {
          "model_module": "@jupyter-widgets/base",
          "model_name": "LayoutModel",
          "model_module_version": "1.2.0",
          "state": {
            "_model_module": "@jupyter-widgets/base",
            "_model_module_version": "1.2.0",
            "_model_name": "LayoutModel",
            "_view_count": null,
            "_view_module": "@jupyter-widgets/base",
            "_view_module_version": "1.2.0",
            "_view_name": "LayoutView",
            "align_content": null,
            "align_items": null,
            "align_self": null,
            "border": null,
            "bottom": null,
            "display": null,
            "flex": null,
            "flex_flow": null,
            "grid_area": null,
            "grid_auto_columns": null,
            "grid_auto_flow": null,
            "grid_auto_rows": null,
            "grid_column": null,
            "grid_gap": null,
            "grid_row": null,
            "grid_template_areas": null,
            "grid_template_columns": null,
            "grid_template_rows": null,
            "height": null,
            "justify_content": null,
            "justify_items": null,
            "left": null,
            "margin": null,
            "max_height": null,
            "max_width": null,
            "min_height": null,
            "min_width": null,
            "object_fit": null,
            "object_position": null,
            "order": null,
            "overflow": null,
            "overflow_x": null,
            "overflow_y": null,
            "padding": null,
            "right": null,
            "top": null,
            "visibility": null,
            "width": null
          }
        },
        "e9c73b948ecc490bb74249f1815d6678": {
          "model_module": "@jupyter-widgets/controls",
          "model_name": "ToggleButtonsStyleModel",
          "model_module_version": "1.5.0",
          "state": {
            "_model_module": "@jupyter-widgets/controls",
            "_model_module_version": "1.5.0",
            "_model_name": "ToggleButtonsStyleModel",
            "_view_count": null,
            "_view_module": "@jupyter-widgets/base",
            "_view_module_version": "1.2.0",
            "_view_name": "StyleView",
            "button_width": "",
            "description_width": "",
            "font_weight": ""
          }
        },
        "2f947bb1b5ab452f8ca4087e164ab6cd": {
          "model_module": "@jupyter-widgets/base",
          "model_name": "LayoutModel",
          "model_module_version": "1.2.0",
          "state": {
            "_model_module": "@jupyter-widgets/base",
            "_model_module_version": "1.2.0",
            "_model_name": "LayoutModel",
            "_view_count": null,
            "_view_module": "@jupyter-widgets/base",
            "_view_module_version": "1.2.0",
            "_view_name": "LayoutView",
            "align_content": null,
            "align_items": null,
            "align_self": null,
            "border": null,
            "bottom": null,
            "display": null,
            "flex": null,
            "flex_flow": null,
            "grid_area": null,
            "grid_auto_columns": null,
            "grid_auto_flow": null,
            "grid_auto_rows": null,
            "grid_column": null,
            "grid_gap": null,
            "grid_row": null,
            "grid_template_areas": null,
            "grid_template_columns": null,
            "grid_template_rows": null,
            "height": null,
            "justify_content": null,
            "justify_items": null,
            "left": null,
            "margin": null,
            "max_height": null,
            "max_width": null,
            "min_height": null,
            "min_width": null,
            "object_fit": null,
            "object_position": null,
            "order": null,
            "overflow": null,
            "overflow_x": null,
            "overflow_y": null,
            "padding": null,
            "right": null,
            "top": null,
            "visibility": null,
            "width": null
          }
        }
      }
    }
  },
  "cells": [
    {
      "cell_type": "markdown",
      "metadata": {
        "id": "view-in-github",
        "colab_type": "text"
      },
      "source": [
        "<a href=\"https://colab.research.google.com/github/MenelaosP/MLTraining/blob/main/DGA_Classification_domaincsv.ipynb\" target=\"_parent\"><img src=\"https://colab.research.google.com/assets/colab-badge.svg\" alt=\"Open In Colab\"/></a>"
      ]
    },
    {
      "cell_type": "code",
      "metadata": {
        "id": "2rvGqQdY9C6s",
        "outputId": "6ca7c9c8-7a86-47cf-b19c-f4c019cab347",
        "colab": {
          "base_uri": "https://localhost:8080/"
        }
      },
      "source": [
        "#εγκατάσταση πακέτου pycaret (https://pycaret.org/)\n",
        "!pip install pycaret\n",
        "#***ΠΡΟΣΟΧΗ*** μετά την εγκατάσταση χρειάζεται restart το session\n",
        "#***θα σας ζητηθεί επανεκκίνηση με σχετικό κόκκινο μήνυμα μετά την ολοκλήρωση της εγκατάστασης\n",
        "#***Πατήστε το κουμπί RESTART SESSION στο σχετικό μήνυμα"
      ],
      "execution_count": null,
      "outputs": [
        {
          "output_type": "stream",
          "name": "stdout",
          "text": [
            "Collecting pycaret\n",
            "  Downloading pycaret-3.3.0-py3-none-any.whl (485 kB)\n",
            "\u001b[?25l     \u001b[90m━━━━━━━━━━━━━━━━━━━━━━━━━━━━━━━━━━━━━━━━\u001b[0m \u001b[32m0.0/485.9 kB\u001b[0m \u001b[31m?\u001b[0m eta \u001b[36m-:--:--\u001b[0m\r\u001b[2K     \u001b[91m━━━━━━━\u001b[0m\u001b[91m╸\u001b[0m\u001b[90m━━━━━━━━━━━━━━━━━━━━━━━━━━━━━━━━\u001b[0m \u001b[32m92.2/485.9 kB\u001b[0m \u001b[31m2.6 MB/s\u001b[0m eta \u001b[36m0:00:01\u001b[0m\r\u001b[2K     \u001b[91m━━━━━━━━━━━━━━━━━━━━━━━━━━━━━━━━━━━\u001b[0m\u001b[90m╺\u001b[0m\u001b[90m━━━━\u001b[0m \u001b[32m430.1/485.9 kB\u001b[0m \u001b[31m6.1 MB/s\u001b[0m eta \u001b[36m0:00:01\u001b[0m\r\u001b[2K     \u001b[90m━━━━━━━━━━━━━━━━━━━━━━━━━━━━━━━━━━━━━━━━\u001b[0m \u001b[32m485.9/485.9 kB\u001b[0m \u001b[31m5.3 MB/s\u001b[0m eta \u001b[36m0:00:00\u001b[0m\n",
            "\u001b[?25hRequirement already satisfied: ipython>=5.5.0 in /usr/local/lib/python3.10/dist-packages (from pycaret) (7.34.0)\n",
            "Requirement already satisfied: ipywidgets>=7.6.5 in /usr/local/lib/python3.10/dist-packages (from pycaret) (7.7.1)\n",
            "Requirement already satisfied: tqdm>=4.62.0 in /usr/local/lib/python3.10/dist-packages (from pycaret) (4.66.2)\n",
            "Requirement already satisfied: numpy<1.27,>=1.21 in /usr/local/lib/python3.10/dist-packages (from pycaret) (1.25.2)\n",
            "Requirement already satisfied: pandas<2.2.0 in /usr/local/lib/python3.10/dist-packages (from pycaret) (2.0.3)\n",
            "Requirement already satisfied: jinja2>=3 in /usr/local/lib/python3.10/dist-packages (from pycaret) (3.1.3)\n",
            "Requirement already satisfied: scipy<=1.11.4,>=1.6.1 in /usr/local/lib/python3.10/dist-packages (from pycaret) (1.11.4)\n",
            "Requirement already satisfied: joblib>=1.2.0 in /usr/local/lib/python3.10/dist-packages (from pycaret) (1.3.2)\n",
            "Collecting scikit-learn>1.4.0 (from pycaret)\n",
            "  Downloading scikit_learn-1.4.1.post1-cp310-cp310-manylinux_2_17_x86_64.manylinux2014_x86_64.whl (12.1 MB)\n",
            "\u001b[2K     \u001b[90m━━━━━━━━━━━━━━━━━━━━━━━━━━━━━━━━━━━━━━━━\u001b[0m \u001b[32m12.1/12.1 MB\u001b[0m \u001b[31m30.3 MB/s\u001b[0m eta \u001b[36m0:00:00\u001b[0m\n",
            "\u001b[?25hCollecting pyod>=1.1.3 (from pycaret)\n",
            "  Downloading pyod-1.1.3.tar.gz (160 kB)\n",
            "\u001b[2K     \u001b[90m━━━━━━━━━━━━━━━━━━━━━━━━━━━━━━━━━━━━━━━━\u001b[0m \u001b[32m160.5/160.5 kB\u001b[0m \u001b[31m11.4 MB/s\u001b[0m eta \u001b[36m0:00:00\u001b[0m\n",
            "\u001b[?25h  Preparing metadata (setup.py) ... \u001b[?25l\u001b[?25hdone\n",
            "Collecting imbalanced-learn>=0.12.0 (from pycaret)\n",
            "  Downloading imbalanced_learn-0.12.2-py3-none-any.whl (257 kB)\n",
            "\u001b[2K     \u001b[90m━━━━━━━━━━━━━━━━━━━━━━━━━━━━━━━━━━━━━━━━\u001b[0m \u001b[32m258.0/258.0 kB\u001b[0m \u001b[31m23.3 MB/s\u001b[0m eta \u001b[36m0:00:00\u001b[0m\n",
            "\u001b[?25hCollecting category-encoders>=2.4.0 (from pycaret)\n",
            "  Downloading category_encoders-2.6.3-py2.py3-none-any.whl (81 kB)\n",
            "\u001b[2K     \u001b[90m━━━━━━━━━━━━━━━━━━━━━━━━━━━━━━━━━━━━━━━━\u001b[0m \u001b[32m81.9/81.9 kB\u001b[0m \u001b[31m7.9 MB/s\u001b[0m eta \u001b[36m0:00:00\u001b[0m\n",
            "\u001b[?25hRequirement already satisfied: lightgbm>=3.0.0 in /usr/local/lib/python3.10/dist-packages (from pycaret) (4.1.0)\n",
            "Requirement already satisfied: numba>=0.55.0 in /usr/local/lib/python3.10/dist-packages (from pycaret) (0.58.1)\n",
            "Requirement already satisfied: requests>=2.27.1 in /usr/local/lib/python3.10/dist-packages (from pycaret) (2.31.0)\n",
            "Requirement already satisfied: psutil>=5.9.0 in /usr/local/lib/python3.10/dist-packages (from pycaret) (5.9.5)\n",
            "Requirement already satisfied: markupsafe>=2.0.1 in /usr/local/lib/python3.10/dist-packages (from pycaret) (2.1.5)\n",
            "Requirement already satisfied: importlib-metadata>=4.12.0 in /usr/local/lib/python3.10/dist-packages (from pycaret) (7.1.0)\n",
            "Requirement already satisfied: nbformat>=4.2.0 in /usr/local/lib/python3.10/dist-packages (from pycaret) (5.10.3)\n",
            "Requirement already satisfied: cloudpickle in /usr/local/lib/python3.10/dist-packages (from pycaret) (2.2.1)\n",
            "Collecting deprecation>=2.1.0 (from pycaret)\n",
            "  Downloading deprecation-2.1.0-py2.py3-none-any.whl (11 kB)\n",
            "Collecting xxhash (from pycaret)\n",
            "  Downloading xxhash-3.4.1-cp310-cp310-manylinux_2_17_x86_64.manylinux2014_x86_64.whl (194 kB)\n",
            "\u001b[2K     \u001b[90m━━━━━━━━━━━━━━━━━━━━━━━━━━━━━━━━━━━━━━━━\u001b[0m \u001b[32m194.1/194.1 kB\u001b[0m \u001b[31m10.2 MB/s\u001b[0m eta \u001b[36m0:00:00\u001b[0m\n",
            "\u001b[?25hRequirement already satisfied: matplotlib<3.8.0 in /usr/local/lib/python3.10/dist-packages (from pycaret) (3.7.1)\n",
            "Collecting scikit-plot>=0.3.7 (from pycaret)\n",
            "  Downloading scikit_plot-0.3.7-py3-none-any.whl (33 kB)\n",
            "Requirement already satisfied: yellowbrick>=1.4 in /usr/local/lib/python3.10/dist-packages (from pycaret) (1.5)\n",
            "Requirement already satisfied: plotly>=5.14.0 in /usr/local/lib/python3.10/dist-packages (from pycaret) (5.15.0)\n",
            "Collecting kaleido>=0.2.1 (from pycaret)\n",
            "  Downloading kaleido-0.2.1-py2.py3-none-manylinux1_x86_64.whl (79.9 MB)\n",
            "\u001b[2K     \u001b[90m━━━━━━━━━━━━━━━━━━━━━━━━━━━━━━━━━━━━━━━━\u001b[0m \u001b[32m79.9/79.9 MB\u001b[0m \u001b[31m7.6 MB/s\u001b[0m eta \u001b[36m0:00:00\u001b[0m\n",
            "\u001b[?25hCollecting schemdraw==0.15 (from pycaret)\n",
            "  Downloading schemdraw-0.15-py3-none-any.whl (106 kB)\n",
            "\u001b[2K     \u001b[90m━━━━━━━━━━━━━━━━━━━━━━━━━━━━━━━━━━━━━━━━\u001b[0m \u001b[32m106.8/106.8 kB\u001b[0m \u001b[31m11.0 MB/s\u001b[0m eta \u001b[36m0:00:00\u001b[0m\n",
            "\u001b[?25hCollecting plotly-resampler>=0.8.3.1 (from pycaret)\n",
            "  Downloading plotly_resampler-0.10.0-py3-none-any.whl (80 kB)\n",
            "\u001b[2K     \u001b[90m━━━━━━━━━━━━━━━━━━━━━━━━━━━━━━━━━━━━━━━━\u001b[0m \u001b[32m80.7/80.7 kB\u001b[0m \u001b[31m6.5 MB/s\u001b[0m eta \u001b[36m0:00:00\u001b[0m\n",
            "\u001b[?25hRequirement already satisfied: statsmodels>=0.12.1 in /usr/local/lib/python3.10/dist-packages (from pycaret) (0.14.1)\n",
            "Collecting sktime>=0.26.0 (from pycaret)\n",
            "  Downloading sktime-0.28.0-py3-none-any.whl (21.9 MB)\n",
            "\u001b[2K     \u001b[90m━━━━━━━━━━━━━━━━━━━━━━━━━━━━━━━━━━━━━━━━\u001b[0m \u001b[32m21.9/21.9 MB\u001b[0m \u001b[31m21.0 MB/s\u001b[0m eta \u001b[36m0:00:00\u001b[0m\n",
            "\u001b[?25hCollecting tbats>=1.1.3 (from pycaret)\n",
            "  Downloading tbats-1.1.3-py3-none-any.whl (44 kB)\n",
            "\u001b[2K     \u001b[90m━━━━━━━━━━━━━━━━━━━━━━━━━━━━━━━━━━━━━━━━\u001b[0m \u001b[32m44.0/44.0 kB\u001b[0m \u001b[31m4.0 MB/s\u001b[0m eta \u001b[36m0:00:00\u001b[0m\n",
            "\u001b[?25hCollecting pmdarima>=2.0.4 (from pycaret)\n",
            "  Downloading pmdarima-2.0.4-cp310-cp310-manylinux_2_17_x86_64.manylinux2014_x86_64.manylinux_2_28_x86_64.whl (2.1 MB)\n",
            "\u001b[2K     \u001b[90m━━━━━━━━━━━━━━━━━━━━━━━━━━━━━━━━━━━━━━━━\u001b[0m \u001b[32m2.1/2.1 MB\u001b[0m \u001b[31m23.9 MB/s\u001b[0m eta \u001b[36m0:00:00\u001b[0m\n",
            "\u001b[?25hCollecting wurlitzer (from pycaret)\n",
            "  Downloading wurlitzer-3.0.3-py3-none-any.whl (7.3 kB)\n",
            "Requirement already satisfied: patsy>=0.5.1 in /usr/local/lib/python3.10/dist-packages (from category-encoders>=2.4.0->pycaret) (0.5.6)\n",
            "Requirement already satisfied: packaging in /usr/local/lib/python3.10/dist-packages (from deprecation>=2.1.0->pycaret) (24.0)\n",
            "Requirement already satisfied: threadpoolctl>=2.0.0 in /usr/local/lib/python3.10/dist-packages (from imbalanced-learn>=0.12.0->pycaret) (3.4.0)\n",
            "Requirement already satisfied: zipp>=0.5 in /usr/local/lib/python3.10/dist-packages (from importlib-metadata>=4.12.0->pycaret) (3.18.1)\n",
            "Requirement already satisfied: setuptools>=18.5 in /usr/local/lib/python3.10/dist-packages (from ipython>=5.5.0->pycaret) (67.7.2)\n",
            "Collecting jedi>=0.16 (from ipython>=5.5.0->pycaret)\n",
            "  Downloading jedi-0.19.1-py2.py3-none-any.whl (1.6 MB)\n",
            "\u001b[2K     \u001b[90m━━━━━━━━━━━━━━━━━━━━━━━━━━━━━━━━━━━━━━━━\u001b[0m \u001b[32m1.6/1.6 MB\u001b[0m \u001b[31m16.6 MB/s\u001b[0m eta \u001b[36m0:00:00\u001b[0m\n",
            "\u001b[?25hRequirement already satisfied: decorator in /usr/local/lib/python3.10/dist-packages (from ipython>=5.5.0->pycaret) (4.4.2)\n",
            "Requirement already satisfied: pickleshare in /usr/local/lib/python3.10/dist-packages (from ipython>=5.5.0->pycaret) (0.7.5)\n",
            "Requirement already satisfied: traitlets>=4.2 in /usr/local/lib/python3.10/dist-packages (from ipython>=5.5.0->pycaret) (5.7.1)\n",
            "Requirement already satisfied: prompt-toolkit!=3.0.0,!=3.0.1,<3.1.0,>=2.0.0 in /usr/local/lib/python3.10/dist-packages (from ipython>=5.5.0->pycaret) (3.0.43)\n",
            "Requirement already satisfied: pygments in /usr/local/lib/python3.10/dist-packages (from ipython>=5.5.0->pycaret) (2.16.1)\n",
            "Requirement already satisfied: backcall in /usr/local/lib/python3.10/dist-packages (from ipython>=5.5.0->pycaret) (0.2.0)\n",
            "Requirement already satisfied: matplotlib-inline in /usr/local/lib/python3.10/dist-packages (from ipython>=5.5.0->pycaret) (0.1.6)\n",
            "Requirement already satisfied: pexpect>4.3 in /usr/local/lib/python3.10/dist-packages (from ipython>=5.5.0->pycaret) (4.9.0)\n",
            "Requirement already satisfied: ipykernel>=4.5.1 in /usr/local/lib/python3.10/dist-packages (from ipywidgets>=7.6.5->pycaret) (5.5.6)\n",
            "Requirement already satisfied: ipython-genutils~=0.2.0 in /usr/local/lib/python3.10/dist-packages (from ipywidgets>=7.6.5->pycaret) (0.2.0)\n",
            "Requirement already satisfied: widgetsnbextension~=3.6.0 in /usr/local/lib/python3.10/dist-packages (from ipywidgets>=7.6.5->pycaret) (3.6.6)\n",
            "Requirement already satisfied: jupyterlab-widgets>=1.0.0 in /usr/local/lib/python3.10/dist-packages (from ipywidgets>=7.6.5->pycaret) (3.0.10)\n",
            "Requirement already satisfied: contourpy>=1.0.1 in /usr/local/lib/python3.10/dist-packages (from matplotlib<3.8.0->pycaret) (1.2.0)\n",
            "Requirement already satisfied: cycler>=0.10 in /usr/local/lib/python3.10/dist-packages (from matplotlib<3.8.0->pycaret) (0.12.1)\n",
            "Requirement already satisfied: fonttools>=4.22.0 in /usr/local/lib/python3.10/dist-packages (from matplotlib<3.8.0->pycaret) (4.50.0)\n",
            "Requirement already satisfied: kiwisolver>=1.0.1 in /usr/local/lib/python3.10/dist-packages (from matplotlib<3.8.0->pycaret) (1.4.5)\n",
            "Requirement already satisfied: pillow>=6.2.0 in /usr/local/lib/python3.10/dist-packages (from matplotlib<3.8.0->pycaret) (9.4.0)\n",
            "Requirement already satisfied: pyparsing>=2.3.1 in /usr/local/lib/python3.10/dist-packages (from matplotlib<3.8.0->pycaret) (3.1.2)\n",
            "Requirement already satisfied: python-dateutil>=2.7 in /usr/local/lib/python3.10/dist-packages (from matplotlib<3.8.0->pycaret) (2.8.2)\n",
            "Requirement already satisfied: fastjsonschema in /usr/local/lib/python3.10/dist-packages (from nbformat>=4.2.0->pycaret) (2.19.1)\n",
            "Requirement already satisfied: jsonschema>=2.6 in /usr/local/lib/python3.10/dist-packages (from nbformat>=4.2.0->pycaret) (4.19.2)\n",
            "Requirement already satisfied: jupyter-core in /usr/local/lib/python3.10/dist-packages (from nbformat>=4.2.0->pycaret) (5.7.2)\n",
            "Requirement already satisfied: llvmlite<0.42,>=0.41.0dev0 in /usr/local/lib/python3.10/dist-packages (from numba>=0.55.0->pycaret) (0.41.1)\n",
            "Requirement already satisfied: pytz>=2020.1 in /usr/local/lib/python3.10/dist-packages (from pandas<2.2.0->pycaret) (2023.4)\n",
            "Requirement already satisfied: tzdata>=2022.1 in /usr/local/lib/python3.10/dist-packages (from pandas<2.2.0->pycaret) (2024.1)\n",
            "Requirement already satisfied: tenacity>=6.2.0 in /usr/local/lib/python3.10/dist-packages (from plotly>=5.14.0->pycaret) (8.2.3)\n",
            "Collecting dash>=2.9.0 (from plotly-resampler>=0.8.3.1->pycaret)\n",
            "  Downloading dash-2.16.1-py3-none-any.whl (10.2 MB)\n",
            "\u001b[2K     \u001b[90m━━━━━━━━━━━━━━━━━━━━━━━━━━━━━━━━━━━━━━━━\u001b[0m \u001b[32m10.2/10.2 MB\u001b[0m \u001b[31m19.3 MB/s\u001b[0m eta \u001b[36m0:00:00\u001b[0m\n",
            "\u001b[?25hCollecting orjson<4.0.0,>=3.8.0 (from plotly-resampler>=0.8.3.1->pycaret)\n",
            "  Downloading orjson-3.10.0-cp310-cp310-manylinux_2_17_x86_64.manylinux2014_x86_64.whl (144 kB)\n",
            "\u001b[2K     \u001b[90m━━━━━━━━━━━━━━━━━━━━━━━━━━━━━━━━━━━━━━━━\u001b[0m \u001b[32m144.8/144.8 kB\u001b[0m \u001b[31m2.4 MB/s\u001b[0m eta \u001b[36m0:00:00\u001b[0m\n",
            "\u001b[?25hCollecting tsdownsample>=0.1.3 (from plotly-resampler>=0.8.3.1->pycaret)\n",
            "  Downloading tsdownsample-0.1.3-cp310-cp310-manylinux_2_17_x86_64.manylinux2014_x86_64.whl (2.1 MB)\n",
            "\u001b[2K     \u001b[90m━━━━━━━━━━━━━━━━━━━━━━━━━━━━━━━━━━━━━━━━\u001b[0m \u001b[32m2.1/2.1 MB\u001b[0m \u001b[31m24.3 MB/s\u001b[0m eta \u001b[36m0:00:00\u001b[0m\n",
            "\u001b[?25hRequirement already satisfied: Cython!=0.29.18,!=0.29.31,>=0.29 in /usr/local/lib/python3.10/dist-packages (from pmdarima>=2.0.4->pycaret) (3.0.10)\n",
            "Requirement already satisfied: urllib3 in /usr/local/lib/python3.10/dist-packages (from pmdarima>=2.0.4->pycaret) (2.0.7)\n",
            "Requirement already satisfied: six in /usr/local/lib/python3.10/dist-packages (from pyod>=1.1.3->pycaret) (1.16.0)\n",
            "Requirement already satisfied: charset-normalizer<4,>=2 in /usr/local/lib/python3.10/dist-packages (from requests>=2.27.1->pycaret) (3.3.2)\n",
            "Requirement already satisfied: idna<4,>=2.5 in /usr/local/lib/python3.10/dist-packages (from requests>=2.27.1->pycaret) (3.6)\n",
            "Requirement already satisfied: certifi>=2017.4.17 in /usr/local/lib/python3.10/dist-packages (from requests>=2.27.1->pycaret) (2024.2.2)\n",
            "Collecting scikit-base<0.8.0 (from sktime>=0.26.0->pycaret)\n",
            "  Downloading scikit_base-0.7.5-py3-none-any.whl (128 kB)\n",
            "\u001b[2K     \u001b[90m━━━━━━━━━━━━━━━━━━━━━━━━━━━━━━━━━━━━━━━━\u001b[0m \u001b[32m128.8/128.8 kB\u001b[0m \u001b[31m12.7 MB/s\u001b[0m eta \u001b[36m0:00:00\u001b[0m\n",
            "\u001b[?25hRequirement already satisfied: Flask<3.1,>=1.0.4 in /usr/local/lib/python3.10/dist-packages (from dash>=2.9.0->plotly-resampler>=0.8.3.1->pycaret) (2.2.5)\n",
            "Requirement already satisfied: Werkzeug<3.1 in /usr/local/lib/python3.10/dist-packages (from dash>=2.9.0->plotly-resampler>=0.8.3.1->pycaret) (3.0.2)\n",
            "Collecting dash-html-components==2.0.0 (from dash>=2.9.0->plotly-resampler>=0.8.3.1->pycaret)\n",
            "  Downloading dash_html_components-2.0.0-py3-none-any.whl (4.1 kB)\n",
            "Collecting dash-core-components==2.0.0 (from dash>=2.9.0->plotly-resampler>=0.8.3.1->pycaret)\n",
            "  Downloading dash_core_components-2.0.0-py3-none-any.whl (3.8 kB)\n",
            "Collecting dash-table==5.0.0 (from dash>=2.9.0->plotly-resampler>=0.8.3.1->pycaret)\n",
            "  Downloading dash_table-5.0.0-py3-none-any.whl (3.9 kB)\n",
            "Requirement already satisfied: typing-extensions>=4.1.1 in /usr/local/lib/python3.10/dist-packages (from dash>=2.9.0->plotly-resampler>=0.8.3.1->pycaret) (4.10.0)\n",
            "Collecting retrying (from dash>=2.9.0->plotly-resampler>=0.8.3.1->pycaret)\n",
            "  Downloading retrying-1.3.4-py3-none-any.whl (11 kB)\n",
            "Requirement already satisfied: nest-asyncio in /usr/local/lib/python3.10/dist-packages (from dash>=2.9.0->plotly-resampler>=0.8.3.1->pycaret) (1.6.0)\n",
            "Requirement already satisfied: jupyter-client in /usr/local/lib/python3.10/dist-packages (from ipykernel>=4.5.1->ipywidgets>=7.6.5->pycaret) (6.1.12)\n",
            "Requirement already satisfied: tornado>=4.2 in /usr/local/lib/python3.10/dist-packages (from ipykernel>=4.5.1->ipywidgets>=7.6.5->pycaret) (6.3.3)\n",
            "Requirement already satisfied: parso<0.9.0,>=0.8.3 in /usr/local/lib/python3.10/dist-packages (from jedi>=0.16->ipython>=5.5.0->pycaret) (0.8.3)\n",
            "Requirement already satisfied: attrs>=22.2.0 in /usr/local/lib/python3.10/dist-packages (from jsonschema>=2.6->nbformat>=4.2.0->pycaret) (23.2.0)\n",
            "Requirement already satisfied: jsonschema-specifications>=2023.03.6 in /usr/local/lib/python3.10/dist-packages (from jsonschema>=2.6->nbformat>=4.2.0->pycaret) (2023.12.1)\n",
            "Requirement already satisfied: referencing>=0.28.4 in /usr/local/lib/python3.10/dist-packages (from jsonschema>=2.6->nbformat>=4.2.0->pycaret) (0.34.0)\n",
            "Requirement already satisfied: rpds-py>=0.7.1 in /usr/local/lib/python3.10/dist-packages (from jsonschema>=2.6->nbformat>=4.2.0->pycaret) (0.18.0)\n",
            "Requirement already satisfied: ptyprocess>=0.5 in /usr/local/lib/python3.10/dist-packages (from pexpect>4.3->ipython>=5.5.0->pycaret) (0.7.0)\n",
            "Requirement already satisfied: wcwidth in /usr/local/lib/python3.10/dist-packages (from prompt-toolkit!=3.0.0,!=3.0.1,<3.1.0,>=2.0.0->ipython>=5.5.0->pycaret) (0.2.13)\n",
            "Requirement already satisfied: notebook>=4.4.1 in /usr/local/lib/python3.10/dist-packages (from widgetsnbextension~=3.6.0->ipywidgets>=7.6.5->pycaret) (6.5.5)\n",
            "Requirement already satisfied: platformdirs>=2.5 in /usr/local/lib/python3.10/dist-packages (from jupyter-core->nbformat>=4.2.0->pycaret) (4.2.0)\n",
            "Requirement already satisfied: itsdangerous>=2.0 in /usr/local/lib/python3.10/dist-packages (from Flask<3.1,>=1.0.4->dash>=2.9.0->plotly-resampler>=0.8.3.1->pycaret) (2.1.2)\n",
            "Requirement already satisfied: click>=8.0 in /usr/local/lib/python3.10/dist-packages (from Flask<3.1,>=1.0.4->dash>=2.9.0->plotly-resampler>=0.8.3.1->pycaret) (8.1.7)\n",
            "Requirement already satisfied: pyzmq<25,>=17 in /usr/local/lib/python3.10/dist-packages (from notebook>=4.4.1->widgetsnbextension~=3.6.0->ipywidgets>=7.6.5->pycaret) (23.2.1)\n",
            "Requirement already satisfied: argon2-cffi in /usr/local/lib/python3.10/dist-packages (from notebook>=4.4.1->widgetsnbextension~=3.6.0->ipywidgets>=7.6.5->pycaret) (23.1.0)\n",
            "Requirement already satisfied: nbconvert>=5 in /usr/local/lib/python3.10/dist-packages (from notebook>=4.4.1->widgetsnbextension~=3.6.0->ipywidgets>=7.6.5->pycaret) (6.5.4)\n",
            "Requirement already satisfied: Send2Trash>=1.8.0 in /usr/local/lib/python3.10/dist-packages (from notebook>=4.4.1->widgetsnbextension~=3.6.0->ipywidgets>=7.6.5->pycaret) (1.8.2)\n",
            "Requirement already satisfied: terminado>=0.8.3 in /usr/local/lib/python3.10/dist-packages (from notebook>=4.4.1->widgetsnbextension~=3.6.0->ipywidgets>=7.6.5->pycaret) (0.18.1)\n",
            "Requirement already satisfied: prometheus-client in /usr/local/lib/python3.10/dist-packages (from notebook>=4.4.1->widgetsnbextension~=3.6.0->ipywidgets>=7.6.5->pycaret) (0.20.0)\n",
            "Requirement already satisfied: nbclassic>=0.4.7 in /usr/local/lib/python3.10/dist-packages (from notebook>=4.4.1->widgetsnbextension~=3.6.0->ipywidgets>=7.6.5->pycaret) (1.0.0)\n",
            "Requirement already satisfied: jupyter-server>=1.8 in /usr/local/lib/python3.10/dist-packages (from nbclassic>=0.4.7->notebook>=4.4.1->widgetsnbextension~=3.6.0->ipywidgets>=7.6.5->pycaret) (1.24.0)\n",
            "Requirement already satisfied: notebook-shim>=0.2.3 in /usr/local/lib/python3.10/dist-packages (from nbclassic>=0.4.7->notebook>=4.4.1->widgetsnbextension~=3.6.0->ipywidgets>=7.6.5->pycaret) (0.2.4)\n",
            "Requirement already satisfied: lxml in /usr/local/lib/python3.10/dist-packages (from nbconvert>=5->notebook>=4.4.1->widgetsnbextension~=3.6.0->ipywidgets>=7.6.5->pycaret) (4.9.4)\n",
            "Requirement already satisfied: beautifulsoup4 in /usr/local/lib/python3.10/dist-packages (from nbconvert>=5->notebook>=4.4.1->widgetsnbextension~=3.6.0->ipywidgets>=7.6.5->pycaret) (4.12.3)\n",
            "Requirement already satisfied: bleach in /usr/local/lib/python3.10/dist-packages (from nbconvert>=5->notebook>=4.4.1->widgetsnbextension~=3.6.0->ipywidgets>=7.6.5->pycaret) (6.1.0)\n",
            "Requirement already satisfied: defusedxml in /usr/local/lib/python3.10/dist-packages (from nbconvert>=5->notebook>=4.4.1->widgetsnbextension~=3.6.0->ipywidgets>=7.6.5->pycaret) (0.7.1)\n",
            "Requirement already satisfied: entrypoints>=0.2.2 in /usr/local/lib/python3.10/dist-packages (from nbconvert>=5->notebook>=4.4.1->widgetsnbextension~=3.6.0->ipywidgets>=7.6.5->pycaret) (0.4)\n",
            "Requirement already satisfied: jupyterlab-pygments in /usr/local/lib/python3.10/dist-packages (from nbconvert>=5->notebook>=4.4.1->widgetsnbextension~=3.6.0->ipywidgets>=7.6.5->pycaret) (0.3.0)\n",
            "Requirement already satisfied: mistune<2,>=0.8.1 in /usr/local/lib/python3.10/dist-packages (from nbconvert>=5->notebook>=4.4.1->widgetsnbextension~=3.6.0->ipywidgets>=7.6.5->pycaret) (0.8.4)\n",
            "Requirement already satisfied: nbclient>=0.5.0 in /usr/local/lib/python3.10/dist-packages (from nbconvert>=5->notebook>=4.4.1->widgetsnbextension~=3.6.0->ipywidgets>=7.6.5->pycaret) (0.10.0)\n",
            "Requirement already satisfied: pandocfilters>=1.4.1 in /usr/local/lib/python3.10/dist-packages (from nbconvert>=5->notebook>=4.4.1->widgetsnbextension~=3.6.0->ipywidgets>=7.6.5->pycaret) (1.5.1)\n",
            "Requirement already satisfied: tinycss2 in /usr/local/lib/python3.10/dist-packages (from nbconvert>=5->notebook>=4.4.1->widgetsnbextension~=3.6.0->ipywidgets>=7.6.5->pycaret) (1.2.1)\n",
            "Requirement already satisfied: argon2-cffi-bindings in /usr/local/lib/python3.10/dist-packages (from argon2-cffi->notebook>=4.4.1->widgetsnbextension~=3.6.0->ipywidgets>=7.6.5->pycaret) (21.2.0)\n",
            "Requirement already satisfied: anyio<4,>=3.1.0 in /usr/local/lib/python3.10/dist-packages (from jupyter-server>=1.8->nbclassic>=0.4.7->notebook>=4.4.1->widgetsnbextension~=3.6.0->ipywidgets>=7.6.5->pycaret) (3.7.1)\n",
            "Requirement already satisfied: websocket-client in /usr/local/lib/python3.10/dist-packages (from jupyter-server>=1.8->nbclassic>=0.4.7->notebook>=4.4.1->widgetsnbextension~=3.6.0->ipywidgets>=7.6.5->pycaret) (1.7.0)\n",
            "Requirement already satisfied: cffi>=1.0.1 in /usr/local/lib/python3.10/dist-packages (from argon2-cffi-bindings->argon2-cffi->notebook>=4.4.1->widgetsnbextension~=3.6.0->ipywidgets>=7.6.5->pycaret) (1.16.0)\n",
            "Requirement already satisfied: soupsieve>1.2 in /usr/local/lib/python3.10/dist-packages (from beautifulsoup4->nbconvert>=5->notebook>=4.4.1->widgetsnbextension~=3.6.0->ipywidgets>=7.6.5->pycaret) (2.5)\n",
            "Requirement already satisfied: webencodings in /usr/local/lib/python3.10/dist-packages (from bleach->nbconvert>=5->notebook>=4.4.1->widgetsnbextension~=3.6.0->ipywidgets>=7.6.5->pycaret) (0.5.1)\n",
            "Requirement already satisfied: sniffio>=1.1 in /usr/local/lib/python3.10/dist-packages (from anyio<4,>=3.1.0->jupyter-server>=1.8->nbclassic>=0.4.7->notebook>=4.4.1->widgetsnbextension~=3.6.0->ipywidgets>=7.6.5->pycaret) (1.3.1)\n",
            "Requirement already satisfied: exceptiongroup in /usr/local/lib/python3.10/dist-packages (from anyio<4,>=3.1.0->jupyter-server>=1.8->nbclassic>=0.4.7->notebook>=4.4.1->widgetsnbextension~=3.6.0->ipywidgets>=7.6.5->pycaret) (1.2.0)\n",
            "Requirement already satisfied: pycparser in /usr/local/lib/python3.10/dist-packages (from cffi>=1.0.1->argon2-cffi-bindings->argon2-cffi->notebook>=4.4.1->widgetsnbextension~=3.6.0->ipywidgets>=7.6.5->pycaret) (2.22)\n",
            "Building wheels for collected packages: pyod\n",
            "  Building wheel for pyod (setup.py) ... \u001b[?25l\u001b[?25hdone\n",
            "  Created wheel for pyod: filename=pyod-1.1.3-py3-none-any.whl size=190250 sha256=d594daf32e88f99a94ec19109eec254d6877c7da751612d9cf60b39e43f72be5\n",
            "  Stored in directory: /root/.cache/pip/wheels/05/f8/db/124d43bec122d6ec0ab3713fadfe25ebed8af52ec561682b4e\n",
            "Successfully built pyod\n",
            "Installing collected packages: kaleido, dash-table, dash-html-components, dash-core-components, xxhash, wurlitzer, tsdownsample, scikit-base, schemdraw, retrying, orjson, jedi, deprecation, scikit-learn, sktime, scikit-plot, pyod, imbalanced-learn, dash, pmdarima, plotly-resampler, category-encoders, tbats, pycaret\n",
            "  Attempting uninstall: scikit-learn\n",
            "    Found existing installation: scikit-learn 1.2.2\n",
            "    Uninstalling scikit-learn-1.2.2:\n",
            "      Successfully uninstalled scikit-learn-1.2.2\n",
            "  Attempting uninstall: imbalanced-learn\n",
            "    Found existing installation: imbalanced-learn 0.10.1\n",
            "    Uninstalling imbalanced-learn-0.10.1:\n",
            "      Successfully uninstalled imbalanced-learn-0.10.1\n",
            "Successfully installed category-encoders-2.6.3 dash-2.16.1 dash-core-components-2.0.0 dash-html-components-2.0.0 dash-table-5.0.0 deprecation-2.1.0 imbalanced-learn-0.12.2 jedi-0.19.1 kaleido-0.2.1 orjson-3.10.0 plotly-resampler-0.10.0 pmdarima-2.0.4 pycaret-3.3.0 pyod-1.1.3 retrying-1.3.4 schemdraw-0.15 scikit-base-0.7.5 scikit-learn-1.4.1.post1 scikit-plot-0.3.7 sktime-0.28.0 tbats-1.1.3 tsdownsample-0.1.3 wurlitzer-3.0.3 xxhash-3.4.1\n"
          ]
        }
      ]
    },
    {
      "cell_type": "code",
      "metadata": {
        "id": "7LfnpwSS9nue"
      },
      "source": [
        "#εισαγωγή βιβλιοθηκών - πακέτων\n",
        "import pycaret\n",
        "import pandas as pd\n",
        "import numpy as np\n",
        "import matplotlib.pyplot as plt\n",
        "from pycaret.classification import *"
      ],
      "execution_count": null,
      "outputs": []
    },
    {
      "cell_type": "code",
      "metadata": {
        "colab": {
          "base_uri": "https://localhost:8080/"
        },
        "id": "ZunbzPVa9a6g",
        "outputId": "cc505c20-3296-4710-ab4a-31d3f33ebeab"
      },
      "source": [
        "#εισαγωγή του συνόλου δεδομένων\n",
        "url = 'https://raw.githubusercontent.com/kdemertzis/EKPA/main/Data/dga_domain.csv'\n",
        "df = pd.read_csv(url)\n",
        "#έλεγχος σχήματος συνόλου δεδομένων\n",
        "print(df.shape)"
      ],
      "execution_count": null,
      "outputs": [
        {
          "output_type": "stream",
          "name": "stdout",
          "text": [
            "(117588, 6)\n"
          ]
        }
      ]
    },
    {
      "cell_type": "code",
      "source": [
        "#ανακάτεμα των δεδομένων\n",
        "df = df.sample(frac = 1)\n",
        "print(df.head())"
      ],
      "metadata": {
        "id": "DCynJDtpYx8z",
        "outputId": "97937e91-8870-43fd-8c5f-546ba8573663",
        "colab": {
          "base_uri": "https://localhost:8080/"
        }
      },
      "execution_count": null,
      "outputs": [
        {
          "output_type": "stream",
          "name": "stdout",
          "text": [
            "       length   entropy   alexa_grams   word_grams       diff    class\n",
            "80260       4  2.000000      0.000000     0.000000   0.000000  suspect\n",
            "72570       9  2.947703     28.411622    38.485657 -10.074034    legit\n",
            "96611       8  3.000000     12.596924    16.806211  -4.209287      dga\n",
            "77383      16  3.452820     78.357271    80.965231  -2.607961    legit\n",
            "87099      11  3.095795     32.978484    26.814142   6.164342    legit\n"
          ]
        }
      ]
    },
    {
      "cell_type": "code",
      "metadata": {
        "id": "J6y3Zhq2-EZ8"
      },
      "source": [
        "#εγκατάσταση του συνόλου δεδομένων\n",
        "grid = setup(data=df, target=df.columns[-1], html=False, verbose=False)"
      ],
      "execution_count": 36,
      "outputs": []
    },
    {
      "cell_type": "code",
      "metadata": {
        "colab": {
          "base_uri": "https://localhost:8080/"
        },
        "id": "ZGJ7kigzA1Rf",
        "outputId": "364fd4e5-8123-4450-ed53-be2a7e5a3ad7"
      },
      "source": [
        "#σύγκριση των διαθέσιμων μοντέλων ΜΜ\n",
        "best = compare_models(cross_validation=False, n_select = 1)\n",
        "%load_ext tensorboard"
      ],
      "execution_count": null,
      "outputs": [
        {
          "output_type": "stream",
          "name": "stderr",
          "text": [
            "                                                           "
          ]
        },
        {
          "output_type": "stream",
          "name": "stdout",
          "text": [
            "                                    Model  Accuracy     AUC  Recall   Prec.  \\\n",
            "lightgbm  Light Gradient Boosting Machine    0.8892  0.9103  0.8892  0.8892   \n",
            "gbc          Gradient Boosting Classifier    0.8885  0.9075  0.8885  0.8885   \n",
            "xgboost         Extreme Gradient Boosting    0.8881  0.9092  0.8881  0.8873   \n",
            "rf               Random Forest Classifier    0.8820  0.8958  0.8820  0.8779   \n",
            "lr                    Logistic Regression    0.8765  0.8769  0.8765  0.8742   \n",
            "knn                K Neighbors Classifier    0.8743  0.8676  0.8743  0.8693   \n",
            "et                 Extra Trees Classifier    0.8714  0.8877  0.8714  0.8661   \n",
            "svm                   SVM - Linear Kernel    0.8708  0.0000  0.8708  0.8678   \n",
            "lda          Linear Discriminant Analysis    0.8505  0.8611  0.8505  0.8540   \n",
            "qda       Quadratic Discriminant Analysis    0.8411  0.8798  0.8411  0.8433   \n",
            "ridge                    Ridge Classifier    0.8332  0.0000  0.8332  0.8531   \n",
            "dt               Decision Tree Classifier    0.8267  0.7877  0.8267  0.8287   \n",
            "ada                  Ada Boost Classifier    0.7678  0.5773  0.7678  0.6520   \n",
            "nb                            Naive Bayes    0.7638  0.7766  0.7638  0.7366   \n",
            "dummy                    Dummy Classifier    0.7342  0.0000  0.7342  0.5391   \n",
            "\n",
            "              F1   Kappa     MCC  TT (Sec)  \n",
            "lightgbm  0.8809  0.7007  0.7166      1.48  \n",
            "gbc       0.8798  0.6982  0.7148     58.08  \n",
            "xgboost   0.8800  0.6983  0.7131      2.05  \n",
            "rf        0.8756  0.6887  0.6971     22.19  \n",
            "lr        0.8683  0.6680  0.6814      6.56  \n",
            "knn       0.8678  0.6690  0.6766      0.13  \n",
            "et        0.8663  0.6664  0.6711      7.10  \n",
            "svm       0.8624  0.6514  0.6648      3.84  \n",
            "lda       0.8384  0.5810  0.6056      0.08  \n",
            "qda       0.8408  0.6173  0.6178      0.08  \n",
            "ridge     0.8005  0.4840  0.5465      0.08  \n",
            "dt        0.8277  0.5786  0.5787      1.10  \n",
            "ada       0.6745  0.2242  0.3386      4.75  \n",
            "nb        0.7423  0.3626  0.3726      0.06  \n",
            "dummy     0.6217  0.0000  0.0000      0.06  \n",
            "The tensorboard extension is already loaded. To reload it, use:\n",
            "  %reload_ext tensorboard\n"
          ]
        },
        {
          "output_type": "stream",
          "name": "stderr",
          "text": [
            "\r"
          ]
        }
      ]
    },
    {
      "cell_type": "code",
      "metadata": {
        "colab": {
          "base_uri": "https://localhost:8080/"
        },
        "id": "TorFLtNx-kCm",
        "outputId": "c8e2a345-2a10-4052-8b15-dbf8be99287a"
      },
      "source": [
        "#αναφορά των υπερπαραμέτρων του μοντέλου με την υψηλότερη απόδοση\n",
        "print(best)"
      ],
      "execution_count": 33,
      "outputs": [
        {
          "output_type": "stream",
          "name": "stdout",
          "text": [
            "LGBMClassifier(boosting_type='gbdt', class_weight=None, colsample_bytree=1.0,\n",
            "               importance_type='split', learning_rate=0.1, max_depth=-1,\n",
            "               min_child_samples=20, min_child_weight=0.001, min_split_gain=0.0,\n",
            "               n_estimators=100, n_jobs=-1, num_leaves=31, objective=None,\n",
            "               random_state=2870, reg_alpha=0.0, reg_lambda=0.0, subsample=1.0,\n",
            "               subsample_for_bin=200000, subsample_freq=0)\n"
          ]
        }
      ]
    },
    {
      "cell_type": "code",
      "metadata": {
        "id": "XJTnGY38yxrE",
        "colab": {
          "base_uri": "https://localhost:8080/",
          "height": 665,
          "referenced_widgets": [
            "e4e7c0e604aa45138f982accc22e1d47",
            "2997ae831afe4b279f1782a48954f6bb",
            "0fdfdc7c7fcc48ebad7b8ba543aacc9e",
            "bc32030c92dd4a478a8d23339cd700c1",
            "cab54ee35d2d4bba8013a9d1d628083e",
            "e9c73b948ecc490bb74249f1815d6678",
            "2f947bb1b5ab452f8ca4087e164ab6cd"
          ]
        },
        "outputId": "5d63cb4d-b453-47ec-a095-dc4b8378c4ef"
      },
      "source": [
        "#μέτρα αξιολόγησης του μοντέλου με την υψηλότερη απόδοση\n",
        "evaluate_model(best)"
      ],
      "execution_count": 34,
      "outputs": [
        {
          "output_type": "display_data",
          "data": {
            "text/plain": [
              "interactive(children=(ToggleButtons(description='Plot Type:', icons=('',), options=(('Pipeline Plot', 'pipelin…"
            ],
            "application/vnd.jupyter.widget-view+json": {
              "version_major": 2,
              "version_minor": 0,
              "model_id": "e4e7c0e604aa45138f982accc22e1d47"
            }
          },
          "metadata": {
            "application/vnd.jupyter.widget-view+json": {
              "colab": {
                "custom_widget_manager": {
                  "url": "https://ssl.gstatic.com/colaboratory-static/widgets/colab-cdn-widget-manager/2b70e893a8ba7c0f/manager.min.js"
                }
              }
            }
          }
        }
      ]
    }
  ]
}